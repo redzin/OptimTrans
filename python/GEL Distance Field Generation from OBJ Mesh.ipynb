{
 "cells": [
  {
   "cell_type": "code",
   "execution_count": null,
   "metadata": {},
   "outputs": [],
   "source": [
    "# Install PyGEL; note does finish the installation on linux.\n",
    "# If on linux, go download the source and build it to get the missing libPyGEL3D.so\n",
    "!pip install PyGEL3D"
   ]
  },
  {
   "cell_type": "code",
   "execution_count": null,
   "metadata": {
    "scrolled": true
   },
   "outputs": [],
   "source": [
    "# Import PyGEL modules\n",
    "from PyGEL3D import gel\n",
    "from PyGEL3D import js\n",
    "import numpy as np\n",
    "js.set_export_mode()"
   ]
  },
  {
   "cell_type": "code",
   "execution_count": null,
   "metadata": {},
   "outputs": [],
   "source": [
    "# Prepare the file paths and names.\n",
    "\n",
    "cochlea_folder = \"../data/cochleas/\"\n",
    "cochlea_files = [\n",
    "    \"shape05_pca\",\n",
    "    \"shape06_pca\",\n",
    "    \"shape08_pca\",\n",
    "    \"shape09_pca\",\n",
    "    \"shape10_pca\",\n",
    "    \"shape11_pca\",\n",
    "    \"shape12_pca\",\n",
    "    \"shape15_pca\",\n",
    "    \"shape16_pca\",\n",
    "    \"shape18_pca\",\n",
    "    \"shape19_pca\",\n",
    "    \"shape20_pca\",\n",
    "    \"shape21_pca\",\n",
    "    \"shape22_pca\",\n",
    "    \"shape23_pca\",\n",
    "    \"shape24_pca\",\n",
    "    \"shape5876_pca\",\n",
    "    \"shape6317_pca\"\n",
    "]\n",
    "\n",
    "cochlea_files\n"
   ]
  },
  {
   "cell_type": "markdown",
   "metadata": {},
   "source": [
    "## Experiment with a single obj file"
   ]
  },
  {
   "cell_type": "code",
   "execution_count": null,
   "metadata": {},
   "outputs": [],
   "source": [
    "# Load a mesh and compute its distance field\n",
    "m = gel.obj_load(\"../data/cochleas/shape20_pca.obj\")"
   ]
  },
  {
   "cell_type": "code",
   "execution_count": null,
   "metadata": {},
   "outputs": [],
   "source": [
    "# View the object\n",
    "viewer = gel.GLManifoldViewer()\n",
    "viewer.display(m, mode='n', bg_col=[1, 1, 1])\n",
    "del viewer"
   ]
  },
  {
   "cell_type": "code",
   "execution_count": null,
   "metadata": {},
   "outputs": [],
   "source": [
    "# Compute distance field\n",
    "mdist = gel.MeshDistance(m)"
   ]
  },
  {
   "cell_type": "code",
   "execution_count": null,
   "metadata": {},
   "outputs": [],
   "source": [
    "s = sum([m.area(face) for face in m.faces()])"
   ]
  },
  {
   "cell_type": "code",
   "execution_count": null,
   "metadata": {},
   "outputs": [],
   "source": [
    "# Discretize the distance field\n",
    "resolution = 64\n",
    "boundary = -10\n",
    "width = 20\n",
    "step_size = width/resolution\n",
    "\n",
    "output = []\n",
    "\n",
    "for i in range(1,resolution+1):\n",
    "    for j in range(1,resolution+1):\n",
    "        for k in range(1,resolution+1):\n",
    "            is_inside = mdist.ray_inside_test([boundary+step_size*i, boundary+step_size*j, boundary+step_size*k])\n",
    "            if is_inside:\n",
    "                output.append([i,j,k])\n",
    "\n",
    "                \n",
    "output = np.array(output)\n",
    "np.savetxt(file+\".txt\", output, delimiter=\",\")"
   ]
  },
  {
   "cell_type": "markdown",
   "metadata": {},
   "source": [
    "## Compute discrete distance field text files for range of cochleas."
   ]
  },
  {
   "cell_type": "code",
   "execution_count": null,
   "metadata": {},
   "outputs": [],
   "source": [
    "# Load meshes.\n",
    "cochlea_indices = range(len(cochlea_files))\n",
    "cochlea_meshes = []\n",
    "for cochlea_index in cochlea_indices:\n",
    "    print(\"(\"+str(cochlea_index+1)+\"/\"+str(len(cochlea_indices))+\") \"+\"Loading mesh from \\\"\"+cochlea_files[cochlea_index]+\".obj\\\"...\")\n",
    "    cochlea_meshes.append(gel.obj_load(cochlea_folder+cochlea_files[cochlea_index]+\".obj\"))\n",
    "print(\"--------------------------------------\\nFinished loading meshes from \"+str(len(cochlea_indices))+\" files.\")"
   ]
  },
  {
   "cell_type": "code",
   "execution_count": null,
   "metadata": {},
   "outputs": [],
   "source": [
    "# Compute distance fields.\n",
    "cochlea_distance_fields = []\n",
    "for cochlea_index in range(len(cochlea_meshes)):\n",
    "    print(\"(\"+str(cochlea_index+1)+\"/\"+str(len(cochlea_meshes))+\") \"+\"Generating distance field for \\\"\"+cochlea_files[cochlea_index]+\".obj\\\"...\")\n",
    "    cochlea_distance_fields.append(gel.MeshDistance(cochlea_meshes[cochlea_index]))\n",
    "print(\"--------------------------------------\\nFinished computing distance fields for \"+str(len(cochlea_meshes))+\" meshes.\")"
   ]
  },
  {
   "cell_type": "code",
   "execution_count": null,
   "metadata": {},
   "outputs": [],
   "source": [
    "# Voxelize distance fields.\n",
    "resolution = 64\n",
    "boundary = [-10, -10, -10]\n",
    "width = 20\n",
    "step_size = width/resolution\n",
    "for cochlea_index in range(len(cochlea_distance_fields)):\n",
    "    output = []\n",
    "    print(\"(\"+str(cochlea_index+1)+\"/\"+str(len(cochlea_distance_fields))+\") \"+\"Voxelizing \"+cochlea_files[cochlea_index]+\" to \"+str(resolution)+\"x\"+str(resolution)+\"x\"+str(resolution)+\" grid...\")\n",
    "    for i in range(1,resolution+1):\n",
    "        if (i % 10 == 0):\n",
    "            print(\"  \"+str(round(i/resolution*100))+\"% done...\")\n",
    "        for j in range(1,resolution+1):\n",
    "            for k in range(1,resolution+1):\n",
    "                is_inside = cochlea_distance_fields[cochlea_index].ray_inside_test([-boundary[0]-step_size*i, -boundary[1]-step_size*j, -boundary[2]-step_size*k])\n",
    "                if is_inside:\n",
    "                    output.append([i,j,k])\n",
    "    output = np.array(output)\n",
    "    output_file_name = cochlea_files[cochlea_index]+\"_\"+str(resolution)+\".txt\";\n",
    "    np.savetxt(cochlea_folder+output_file_name, output, delimiter=\",\")\n",
    "    print(\"  100% done. Output saved to \\\"\"+output_file_name+\"\\\".\")\n",
    "print(\"--------------------------------------\\nFinished voxelizing \"+str(len(cochlea_distance_fields))+\" distance fields.\")"
   ]
  },
  {
   "cell_type": "markdown",
   "metadata": {},
   "source": [
    "## Big all-in-one computation. Very heavy..."
   ]
  },
  {
   "cell_type": "code",
   "execution_count": null,
   "metadata": {
    "scrolled": false
   },
   "outputs": [],
   "source": [
    "# Compute discrete distance field txt files for range of cochleas\n",
    "\n",
    "mirror = False\n",
    "resolution = 64\n",
    "boundary = -12\n",
    "width = 24\n",
    "step_size = width/resolution\n",
    "cochlea_indices = range(len(cochlea_files))\n",
    "\n",
    "for file_index in cochlea_indices:\n",
    "    print(\"(\"+str(file_index+1)+\"/\"+str(len(cochlea_indices))+\") \"+\"Loading mesh from \\\"\"+cochlea_files[file_index]+\".obj\\\"...\")\n",
    "    m = gel.obj_load(cochlea_folder+cochlea_files[file_index]+\".obj\")\n",
    "    print(\"Creating distance field...\")\n",
    "    mdist = gel.MeshDistance(m)\n",
    "    output = []\n",
    "    print(\"Iterating over \"+str(resolution)+\"x\"+str(resolution)+\"x\"+str(resolution)+\" grid:\")\n",
    "    for i in range(1,resolution+1):\n",
    "        if (i % 10 == 0):\n",
    "            print(\"  \"+str(i/resolution*100)+\"% done...\")\n",
    "        for j in range(1,resolution+1):\n",
    "            for k in range(1,resolution+1):\n",
    "                if mirror:\n",
    "                    is_inside = mdist.ray_inside_test([boundary+step_size*i, boundary+step_size*j, boundary+step_size*k])\n",
    "                else:\n",
    "                    is_inside = mdist.ray_inside_test([-boundary-step_size*i, -boundary-step_size*j, -boundary-step_size*k])\n",
    "                if is_inside:\n",
    "                    output.append([i,j,k])\n",
    "\n",
    "    output = np.array(output)\n",
    "    output_file_name = cochlea_folder+cochlea_files[file_index]+\"_\"+str(resolution)\n",
    "    if mirror:\n",
    "        output_file_name += \"_mirrored\"\n",
    "    output_file_name += \".txt\"\n",
    "    np.savetxt(output_file_name, output, delimiter=\",\")\n",
    "    print(\"  100% done.\")\n",
    "    print(\"Voxelized mesh saved to \"+output_file_name+\".\")\n",
    "    print(\"-------------------------------------------------------------------\")\n",
    "    del m, mdist, output\n",
    "print(\"Finishes voxelizing \"+str(len(cochlea_indices))+\" meshes.\")\n"
   ]
  },
  {
   "cell_type": "markdown",
   "metadata": {},
   "source": [
    "## Special preprocessing based on the distance field\n",
    "\n",
    "Below the code generates a voxel field, but instead of setting each entry to 1 it will be set to\n",
    "\n",
    "$$\n",
    "P(x) = \\exp(-d_\\alpha(x)) + \\beta,\n",
    "$$\n",
    "\n",
    "where $\\alpha$ is the clamp value and $\\beta$ is the smallest value before normalisation. The preprocessing is done in matlab, here I merely save the signed distance for each voxel."
   ]
  },
  {
   "cell_type": "code",
   "execution_count": null,
   "metadata": {},
   "outputs": [],
   "source": [
    "def clamp(x,alpha):\n",
    "    alpha = abs(alpha)\n",
    "    if x > alpha:\n",
    "        return alpha\n",
    "    elif x < -alpha:\n",
    "        return -alpha\n",
    "    return x"
   ]
  },
  {
   "cell_type": "code",
   "execution_count": null,
   "metadata": {},
   "outputs": [],
   "source": [
    "resolution = 64\n",
    "boundary = -12\n",
    "width = 24\n",
    "step_size = width/resolution\n",
    "cochlea_indices = range(len(cochlea_files))\n",
    "# cochlea_indices = range(0,1)\n",
    "\n",
    "sign = 1;\n",
    "\n",
    "for file_index in cochlea_indices:\n",
    "    print(\"(\"+str(file_index+1)+\"/\"+str(len(cochlea_indices))+\") ----------\")\n",
    "    print(\"  Loading mesh from \\\"\"+cochlea_files[file_index]+\".obj\\\"...\")\n",
    "    m = gel.obj_load(cochlea_folder+cochlea_files[file_index]+\".obj\")\n",
    "    print(\"  Computing distance field...\")\n",
    "    mdist = gel.MeshDistance(m)\n",
    "    output = []\n",
    "    print(\"  Iterating over \"+str(resolution)+\"x\"+str(resolution)+\"x\"+str(resolution)+\" grid:\")\n",
    "    for i in range(1,resolution+1):\n",
    "        if (i % 10 == 0):\n",
    "            print(\"    \"+str(round(i/resolution*100))+\"% done...\")\n",
    "        for j in range(1,resolution+1):\n",
    "            for k in range(1,resolution+1):\n",
    "                p = [-boundary-step_size*i, -boundary-step_size*j, -boundary-step_size*k]\n",
    "                d = mdist.signed_distance(p)\n",
    "                if (i == 1 and j == 1 and k == 1):\n",
    "                    if d < 0:\n",
    "                        sign = -1;\n",
    "                    print(\"    (sign of distance = \"+str(sign)+\")\")\n",
    "                output.append([i,j,k,sign*d])\n",
    "    \n",
    "    output = np.array(output)\n",
    "    output_file_name = cochlea_folder+cochlea_files[file_index]+\"_\"+str(resolution)+\"_signed_distance\"\n",
    "    output_file_name += \".txt\"\n",
    "    np.savetxt(output_file_name, output, delimiter=\",\")\n",
    "    print(\"    100% done.\")\n",
    "    print(\"  Voxelized distance field saved to \"+output_file_name+\".\")\n",
    "    del m, mdist, output\n",
    "    sign = 1\n",
    "print(\"Finished voxelizing \"+str(len(cochlea_indices))+\" meshes.\")"
   ]
  },
  {
   "cell_type": "markdown",
   "metadata": {},
   "source": [
    "## Computation of volume and surface\n",
    "\n",
    "Volume is computed using Halton-sequenced Monte Carlo sampling. Surface is computed by summing over the surfaces of all triangles in the mesh."
   ]
  },
  {
   "cell_type": "code",
   "execution_count": null,
   "metadata": {},
   "outputs": [],
   "source": [
    "# n-th Corput sequence sampling function\n",
    "def corput(n, base):\n",
    "    q = 0\n",
    "    bk = 1.0/base;\n",
    "    while (n > 0):\n",
    "        q  += (n % base) * bk;\n",
    "        n  /= base;\n",
    "        bk /= base;\n",
    "    return q\n",
    "\n",
    "# n-th Halton sequence sampling function (multidimensional Corput sampling)\n",
    "def halton(n, d, shift):\n",
    "    primes = (2,3,5,7,11,13,17,19,23,29,31,37,41,43,47,53,59,61,67,71) # supports up to 20 dimensions\n",
    "    x = [0 for i in range(d)]\n",
    "    assert(d < 20)\n",
    "    for i in range(0,d):\n",
    "        x[i] = corput(n,primes[i+shift])\n",
    "    return x"
   ]
  },
  {
   "cell_type": "code",
   "execution_count": null,
   "metadata": {},
   "outputs": [],
   "source": [
    "# Halton-sequenced Monte Carlo integration given a pygel distance field mdist\n",
    "from functools import reduce\n",
    "def haltonmc(mdist,N,bounds,shift):\n",
    "    # Compute volume here\n",
    "    S = 0;\n",
    "    V = reduce(lambda x,y: x*y, [bound[1]-bound[0] for bound in bounds]) # compute entire volue of the region\n",
    "    \n",
    "    r = np.array(list(map(lambda x: x[1]-x[0], bounds)))\n",
    "    lower = np.array(list(map(lambda x: x[0], bounds)))\n",
    "    upper = np.array(list(map(lambda x: x[1], bounds)))\n",
    "    \n",
    "    S = sum([1 if mdist.ray_inside_test(lower+r*halton(n, 3, shift)) else 0 for n in range(monte_carlo_points)])\n",
    "    \n",
    "    return S * V/N;"
   ]
  },
  {
   "cell_type": "code",
   "execution_count": null,
   "metadata": {},
   "outputs": [],
   "source": [
    "\n",
    "cochlea_indices = range(len(cochlea_files))\n",
    "\n",
    "# Settings for Monte Carlo volume computation\n",
    "compute_volume = True\n",
    "monte_carlo_points = 50000;\n",
    "halton_shift1 = 0;\n",
    "halton_shift2 = 1;\n",
    "bounds = [[-12, 12], [-12, 12], [-12, 12]]\n",
    "\n",
    "# Settings for surface computation\n",
    "compute_surface = False\n",
    "\n",
    "print(\"Computing volume and/or surface area of \" + str(len(cochlea_files)) + \" meshes...\")\n",
    "\n",
    "V = []\n",
    "S = []\n",
    "\n",
    "for file_index in cochlea_indices:\n",
    "    print(\"(\"+str(file_index+1)+\"/\"+str(len(cochlea_indices))+\")\")\n",
    "    print(\"  Loading mesh from \\\"\"+cochlea_files[file_index]+\".obj\\\"...\")\n",
    "    m = gel.obj_load(cochlea_folder+cochlea_files[file_index]+\".obj\")\n",
    "    # Compute surface here\n",
    "    if (compute_surface):\n",
    "        print(\"  Integrating mesh surface...\")\n",
    "        s = sum([m.area(face) for face in m.faces()])\n",
    "        S.append(s)\n",
    "        print(\"    Surface = \"+str(s))\n",
    "    \n",
    "    # Compute volume here\n",
    "    if (compute_volume):\n",
    "        print(\"  Computing volume...\")\n",
    "        print(\"    Computing distance field...\")\n",
    "        mdist = gel.MeshDistance(m)\n",
    "        print(\"    Computing Monte Carlo volume integral...\")\n",
    "        v1 = haltonmc(mdist,monte_carlo_points,bounds,0)\n",
    "        print(\"    Volume1 = \"+str(v1))\n",
    "        v2 = haltonmc(mdist,monte_carlo_points,bounds,1)\n",
    "        print(\"    Volume2 = \"+str(v2))\n",
    "        v3 = haltonmc(mdist,monte_carlo_points,bounds,2)\n",
    "        print(\"    Volume3 = \"+str(v3))\n",
    "        v4 = haltonmc(mdist,monte_carlo_points,bounds,3)\n",
    "        print(\"    Volume4 = \"+str(v4))\n",
    "        v5 = haltonmc(mdist,monte_carlo_points,bounds,4)\n",
    "        print(\"    Volume5 = \"+str(v5))\n",
    "        v6 = haltonmc(mdist,monte_carlo_points,bounds,5)\n",
    "        print(\"    Volume6 = \"+str(v6))\n",
    "        v7 = haltonmc(mdist,monte_carlo_points,bounds,6)\n",
    "        print(\"    Volume7 = \"+str(v7))\n",
    "        v8 = haltonmc(mdist,monte_carlo_points,bounds,7)\n",
    "        print(\"    Volume8 = \"+str(v8))\n",
    "        v9 = haltonmc(mdist,monte_carlo_points,bounds,8)\n",
    "        print(\"    Volume9 = \"+str(v9))\n",
    "        v10 = haltonmc(mdist,monte_carlo_points,bounds,9)\n",
    "        print(\"    Volume10 = \"+str(v10))\n",
    "        V.append([v1, v2, v3, v4, v5, v6, v7, v8, v9, v10])\n",
    "        del mdist\n",
    "    \n",
    "    del m\n",
    "    \n",
    "# Save to file\n",
    "if (compute_volume):\n",
    "    output_file_name = cochlea_folder+'cochleae_volumes.txt'\n",
    "    np.savetxt(output_file_name, np.array(V), delimiter=\",\")\n",
    "if (compute_surface):\n",
    "    output_file_name = cochlea_folder+'cochleae_surfaces.txt'\n",
    "    np.savetxt(output_file_name, np.array(S), delimiter=\",\")\n",
    "print(\"Finished volume and/or surface computation for \"+str(len(cochlea_indices))+\" meshes.\")"
   ]
  },
  {
   "cell_type": "markdown",
   "metadata": {},
   "source": [
    "## Treating toy objects"
   ]
  },
  {
   "cell_type": "code",
   "execution_count": 2,
   "metadata": {},
   "outputs": [
    {
     "data": {
      "text/plain": [
       "['bunny', 'duck']"
      ]
     },
     "execution_count": 2,
     "metadata": {},
     "output_type": "execute_result"
    }
   ],
   "source": [
    "object_folder = \"../data/objects/\"\n",
    "object_files = [\n",
    "    \"bunny\",\n",
    "    \"duck\"\n",
    "]\n",
    "\n",
    "object_files"
   ]
  },
  {
   "cell_type": "code",
   "execution_count": 3,
   "metadata": {},
   "outputs": [],
   "source": [
    "def voxelise_mesh(resolution, object_files, object_folder):\n",
    "\n",
    "    object_indices = range(len(object_files))\n",
    "    sign = 1;\n",
    "    for file_index in object_indices:\n",
    "        print(\"(\"+str(file_index+1)+\"/\"+str(len(object_indices))+\") ----------\")\n",
    "        print(\"  Loading mesh from \\\"\"+object_files[file_index]+\".obj\\\"...\")\n",
    "        m = gel.obj_load(object_folder+object_files[file_index]+\".obj\")\n",
    "        bbox = gel.bbox(m)\n",
    "        print(bbox)\n",
    "        width = round(1.2*(max(bbox[1])-min(bbox[0])))\n",
    "        boundary = -round(1.2*abs(min(bbox[0])))\n",
    "        step_size = width/resolution\n",
    "        print(width, boundary, resolution, step_size)\n",
    "        print(\"  Computing distance field...\")\n",
    "        mdist = gel.MeshDistance(m)\n",
    "        output = []\n",
    "        print(\"  Iterating over \"+str(resolution)+\"x\"+str(resolution)+\"x\"+str(resolution)+\" grid:\")\n",
    "        for i in range(1,resolution+1):\n",
    "            if (i % 10 == 0):\n",
    "                print(\"    \"+str(round(i/resolution*100))+\"% done...\")\n",
    "            for j in range(1,resolution+1):\n",
    "                for k in range(1,resolution+1):\n",
    "                    p = [boundary+step_size*i, boundary+step_size*j, boundary+step_size*k]\n",
    "                    d = mdist.signed_distance(p)\n",
    "                    if (i == 1 and j == 1 and k == 1):\n",
    "                        if d < 0:\n",
    "                            sign = -1;\n",
    "                        print(\"    (sign of distance = \"+str(sign)+\")\")\n",
    "                    output.append([i,j,k,sign*d])\n",
    "                        \n",
    "\n",
    "        output = np.array(output)\n",
    "        output_file_name = object_folder+object_files[file_index]+\"_\"+str(resolution)+\"_signed_distance\"\n",
    "        output_file_name += \".txt\"\n",
    "        np.savetxt(output_file_name, output, delimiter=\",\")\n",
    "        print(\"    100% done.\")\n",
    "        print(\"  Voxelized distance field saved to \"+output_file_name+\".\")\n",
    "        del m, mdist, output\n",
    "        sign = 1\n",
    "    print(\"Finished voxelizing \"+str(len(object_indices))+\" meshes.\")\n",
    "\n"
   ]
  },
  {
   "cell_type": "code",
   "execution_count": null,
   "metadata": {},
   "outputs": [],
   "source": [
    "resolution = 64\n",
    "\n",
    "voxelise_mesh(resolution, object_files, object_folder)\n",
    "\n"
   ]
  },
  {
   "cell_type": "code",
   "execution_count": null,
   "metadata": {},
   "outputs": [],
   "source": []
  },
  {
   "cell_type": "code",
   "execution_count": null,
   "metadata": {},
   "outputs": [],
   "source": []
  }
 ],
 "metadata": {
  "kernelspec": {
   "display_name": "Python 3",
   "language": "python",
   "name": "python3"
  },
  "language_info": {
   "codemirror_mode": {
    "name": "ipython",
    "version": 3
   },
   "file_extension": ".py",
   "mimetype": "text/x-python",
   "name": "python",
   "nbconvert_exporter": "python",
   "pygments_lexer": "ipython3",
   "version": "3.7.3"
  }
 },
 "nbformat": 4,
 "nbformat_minor": 2
}
