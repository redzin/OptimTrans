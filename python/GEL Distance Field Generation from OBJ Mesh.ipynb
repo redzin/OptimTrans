{
 "cells": [
  {
   "cell_type": "code",
   "execution_count": null,
   "metadata": {},
   "outputs": [],
   "source": [
    "# Install PyGEL; note does finish the installation on linux.\n",
    "# If on linux, go download the source and build it to get the missing libPyGEL3D.so\n",
    "!pip install PyGEL3D"
   ]
  },
  {
   "cell_type": "code",
   "execution_count": null,
   "metadata": {
    "scrolled": true
   },
   "outputs": [],
   "source": [
    "# Import PyGEL modules\n",
    "from PyGEL3D import gel\n",
    "from PyGEL3D import js\n",
    "import numpy as np\n",
    "js.set_export_mode()"
   ]
  },
  {
   "cell_type": "markdown",
   "metadata": {},
   "source": [
    "## Experiment with a single obj file"
   ]
  },
  {
   "cell_type": "code",
   "execution_count": null,
   "metadata": {},
   "outputs": [],
   "source": [
    "# Load a mesh and compute its distance field\n",
    "m = gel.obj_load(\"../data/cochleas/shape18_pca.obj\")"
   ]
  },
  {
   "cell_type": "code",
   "execution_count": null,
   "metadata": {},
   "outputs": [],
   "source": [
    "# View the object\n",
    "viewer = gel.GLManifoldViewer()\n",
    "viewer.display(m, mode='n', bg_col=[1, 1, 1])\n",
    "del viewer"
   ]
  },
  {
   "cell_type": "code",
   "execution_count": null,
   "metadata": {},
   "outputs": [],
   "source": [
    "# Compute distance field\n",
    "mdist = gel.MeshDistance(m)"
   ]
  },
  {
   "cell_type": "code",
   "execution_count": null,
   "metadata": {},
   "outputs": [],
   "source": [
    "mdist.signed_distance([-0, 0, 0])"
   ]
  },
  {
   "cell_type": "code",
   "execution_count": null,
   "metadata": {},
   "outputs": [],
   "source": []
  },
  {
   "cell_type": "code",
   "execution_count": null,
   "metadata": {},
   "outputs": [],
   "source": [
    "# Discretize the distance field\n",
    "resolution = 64\n",
    "boundary = -10\n",
    "width = 20\n",
    "step_size = width/resolution\n",
    "\n",
    "output = []\n",
    "\n",
    "for i in range(1,resolution+1):\n",
    "    for j in range(1,resolution+1):\n",
    "        for k in range(1,resolution+1):\n",
    "            is_inside = mdist.ray_inside_test([boundary+step_size*i, boundary+step_size*j, boundary+step_size*k])\n",
    "            if is_inside:\n",
    "                output.append([i,j,k])\n",
    "\n",
    "                \n",
    "output = np.array(output)\n",
    "np.savetxt(file+\".txt\", output, delimiter=\",\")"
   ]
  },
  {
   "cell_type": "markdown",
   "metadata": {},
   "source": [
    "## Compute discrete distance field text files for range of cochleas."
   ]
  },
  {
   "cell_type": "code",
   "execution_count": 2,
   "metadata": {},
   "outputs": [
    {
     "data": {
      "text/plain": [
       "['shape18_pca', 'shape19_pca', 'shape22_pca']"
      ]
     },
     "execution_count": 2,
     "metadata": {},
     "output_type": "execute_result"
    }
   ],
   "source": [
    "# Prepare the file paths and names.\n",
    "\n",
    "cochlea_folder = \"../data/cochleas/\"\n",
    "cochlea_files = [\n",
    "#     \"shape05_pca\",\n",
    "#     \"shape06_pca\",\n",
    "#     \"shape08_pca\",\n",
    "#     \"shape09_pca\",\n",
    "#     \"shape10_pca\",\n",
    "#     \"shape11_pca\",\n",
    "#     \"shape12_pca\",\n",
    "#     \"shape15_pca\",\n",
    "#     \"shape16_pca\",\n",
    "    \"shape18_pca\",\n",
    "    \"shape19_pca\",\n",
    "#     \"shape20_pca\",\n",
    "#     \"shape21_pca\",\n",
    "    \"shape22_pca\",\n",
    "#     \"shape23_pca\",\n",
    "#     \"shape24_pca\",\n",
    "#     \"shape5876_pca\",\n",
    "#     \"shape6317_pca\"\n",
    "]\n",
    "\n",
    "cochlea_files\n"
   ]
  },
  {
   "cell_type": "code",
   "execution_count": null,
   "metadata": {},
   "outputs": [],
   "source": [
    "# Load meshes.\n",
    "cochlea_indices = range(len(cochlea_files))\n",
    "cochlea_meshes = []\n",
    "for cochlea_index in cochlea_indices:\n",
    "    print(\"(\"+str(cochlea_index+1)+\"/\"+str(len(cochlea_indices))+\") \"+\"Loading mesh from \\\"\"+cochlea_files[cochlea_index]+\".obj\\\"...\")\n",
    "    cochlea_meshes.append(gel.obj_load(cochlea_folder+cochlea_files[cochlea_index]+\".obj\"))\n",
    "print(\"--------------------------------------\\nFinished loading meshes from \"+str(len(cochlea_indices))+\" files.\")"
   ]
  },
  {
   "cell_type": "code",
   "execution_count": null,
   "metadata": {},
   "outputs": [],
   "source": [
    "# Compute distance fields.\n",
    "cochlea_distance_fields = []\n",
    "for cochlea_index in range(len(cochlea_meshes)):\n",
    "    print(\"(\"+str(cochlea_index+1)+\"/\"+str(len(cochlea_meshes))+\") \"+\"Generating distance field for \\\"\"+cochlea_files[cochlea_index]+\".obj\\\"...\")\n",
    "    cochlea_distance_fields.append(gel.MeshDistance(cochlea_meshes[cochlea_index]))\n",
    "print(\"--------------------------------------\\nFinished computing distance fields for \"+str(len(cochlea_meshes))+\" meshes.\")"
   ]
  },
  {
   "cell_type": "code",
   "execution_count": null,
   "metadata": {},
   "outputs": [],
   "source": [
    "# Voxelize distance fields.\n",
    "resolution = 64\n",
    "boundary = [-10, -10, -10]\n",
    "width = 20\n",
    "step_size = width/resolution\n",
    "for cochlea_index in range(len(cochlea_distance_fields)):\n",
    "    output = []\n",
    "    print(\"(\"+str(cochlea_index+1)+\"/\"+str(len(cochlea_distance_fields))+\") \"+\"Voxelizing \"+cochlea_files[cochlea_index]+\" to \"+str(resolution)+\"x\"+str(resolution)+\"x\"+str(resolution)+\" grid...\")\n",
    "    for i in range(1,resolution+1):\n",
    "        if (i % 10 == 0):\n",
    "            print(\"  \"+str(round(i/resolution*100))+\"% done...\")\n",
    "        for j in range(1,resolution+1):\n",
    "            for k in range(1,resolution+1):\n",
    "                is_inside = cochlea_distance_fields[cochlea_index].ray_inside_test([-boundary[0]-step_size*i, -boundary[1]-step_size*j, -boundary[2]-step_size*k])\n",
    "                if is_inside:\n",
    "                    output.append([i,j,k])\n",
    "    output = np.array(output)\n",
    "    output_file_name = cochlea_files[cochlea_index]+\"_\"+str(resolution)+\".txt\";\n",
    "    np.savetxt(cochlea_folder+output_file_name, output, delimiter=\",\")\n",
    "    print(\"  100% done. Output saved to \\\"\"+output_file_name+\"\\\".\")\n",
    "print(\"--------------------------------------\\nFinished voxelizing \"+str(len(cochlea_distance_fields))+\" distance fields.\")"
   ]
  },
  {
   "cell_type": "markdown",
   "metadata": {},
   "source": [
    "## Big all-in-one computation. Very heavy..."
   ]
  },
  {
   "cell_type": "code",
   "execution_count": null,
   "metadata": {
    "scrolled": false
   },
   "outputs": [],
   "source": [
    "# Compute discrete distance field txt files for range of cochleas\n",
    "\n",
    "mirror = True\n",
    "resolution = 64\n",
    "boundary = -10\n",
    "width = 20\n",
    "step_size = width/resolution\n",
    "cochlea_indices = range(len(cochlea_files))\n",
    "\n",
    "for file_index in cochlea_indices:\n",
    "    print(\"(\"+str(file_index+1)+\"/\"+str(len(cochlea_indices))+\") \"+\"Loading mesh from \\\"\"+cochlea_files[file_index]+\".obj\\\"...\")\n",
    "    m = gel.obj_load(cochlea_folder+cochlea_files[file_index]+\".obj\")\n",
    "    print(\"Creating distance field...\")\n",
    "    mdist = gel.MeshDistance(m)\n",
    "    output = []\n",
    "    print(\"Iterating over \"+str(resolution)+\"x\"+str(resolution)+\"x\"+str(resolution)+\" grid:\")\n",
    "    for i in range(1,resolution+1):\n",
    "        if (i % 10 == 0):\n",
    "            print(\"  \"+str(i/resolution*100)+\"% done...\")\n",
    "        for j in range(1,resolution+1):\n",
    "            for k in range(1,resolution+1):\n",
    "                if mirror\n",
    "                    is_inside = mdist.ray_inside_test([boundary+step_size*i, boundary+step_size*j, boundary+step_size*k])\n",
    "                else\n",
    "                    is_inside = mdist.ray_inside_test([-boundary-step_size*i, -boundary-step_size*j, -boundary-step_size*k])\n",
    "                if is_inside:\n",
    "                    output.append([i,j,k])\n",
    "\n",
    "    output = np.array(output)\n",
    "    output_file_name = cochlea_folder+cochlea_files[file_index]+\"_\"+str(resolution)\n",
    "    if mirror\n",
    "        output_file_name += \"_mirrored\"\n",
    "    output_file_name += \".txt\"\n",
    "    np.savetxt(output_file_name, output, delimiter=\",\")\n",
    "    print(\"  100% done.\")\n",
    "    print(\"Voxelized mesh saved to \"+output_file_name+\".\")\n",
    "    print(\"-------------------------------------------------------------------\")\n",
    "    del m, mdist\n",
    "print(\"Finishes voxelizing \"+str(len(cochlea_indices))+\" meshes.\")\n"
   ]
  },
  {
   "cell_type": "markdown",
   "metadata": {},
   "source": [
    "## Special preprocessing based on the distance field\n",
    "\n",
    "Below the code generates a voxel field, but instead of setting each entry to 1 it will be set to\n",
    "\n",
    "$$\n",
    "P(x) = \\exp(-d_\\alpha(x)) + \\beta,\n",
    "$$\n",
    "\n",
    "where $\\alpha$ is the clamp value and $\\beta$ is the smallest value before normalisation."
   ]
  },
  {
   "cell_type": "code",
   "execution_count": null,
   "metadata": {},
   "outputs": [],
   "source": [
    "def clamp(x,alpha):\n",
    "    alpha = abs(alpha)\n",
    "    if x > alpha:\n",
    "        return alpha\n",
    "    elif x < -alpha:\n",
    "        return -alpha\n",
    "    return x"
   ]
  },
  {
   "cell_type": "code",
   "execution_count": null,
   "metadata": {},
   "outputs": [],
   "source": [
    "resolution = 64\n",
    "boundary = -12\n",
    "width = 20\n",
    "step_size = width/resolution\n",
    "cochlea_indices = range(len(cochlea_files))\n",
    "# cochlea_indices = range(0,1)\n",
    "\n",
    "sign = 1;\n",
    "\n",
    "for file_index in cochlea_indices:\n",
    "    print(\"(\"+str(file_index+1)+\"/\"+str(len(cochlea_indices))+\") ----------\")\n",
    "    print(\"  Loading mesh from \\\"\"+cochlea_files[file_index]+\".obj\\\"...\")\n",
    "    m = gel.obj_load(cochlea_folder+cochlea_files[file_index]+\".obj\")\n",
    "    print(\"  Creating distance field...\")\n",
    "    mdist = gel.MeshDistance(m)\n",
    "    output = []\n",
    "    print(\"  Iterating over \"+str(resolution)+\"x\"+str(resolution)+\"x\"+str(resolution)+\" grid:\")\n",
    "    for i in range(1,resolution+1):\n",
    "        if (i % 10 == 0):\n",
    "            print(\"    \"+str(round(i/resolution*100))+\"% done...\")\n",
    "        for j in range(1,resolution+1):\n",
    "            for k in range(1,resolution+1):\n",
    "                p = [-boundary-step_size*i, -boundary-step_size*j, -boundary-step_size*k]\n",
    "                d = mdist.signed_distance(p)\n",
    "                if (i == 1 and j == 1 and k == 1):\n",
    "                    if d < 0:\n",
    "                        sign = -1;\n",
    "                    print(\"    (sign of distance = \"+str(sign)+\")\")\n",
    "                output.append([i,j,k,sign*d])\n",
    "    \n",
    "    output = np.array(output)\n",
    "    output_file_name = cochlea_folder+cochlea_files[file_index]+\"_\"+str(resolution)+\"_signed_distance\"\n",
    "    output_file_name += \".txt\"\n",
    "    np.savetxt(output_file_name, output, delimiter=\",\")\n",
    "    print(\"    100% done.\")\n",
    "    print(\"  Voxelized mesh saved to \"+output_file_name+\".\")\n",
    "    del m, mdist, output\n",
    "    sign = 1\n",
    "print(\"Finished voxelizing \"+str(len(cochlea_indices))+\" meshes.\")"
   ]
  },
  {
   "cell_type": "code",
   "execution_count": null,
   "metadata": {},
   "outputs": [],
   "source": []
  },
  {
   "cell_type": "code",
   "execution_count": null,
   "metadata": {},
   "outputs": [],
   "source": []
  }
 ],
 "metadata": {
  "kernelspec": {
   "display_name": "Python 3",
   "language": "python",
   "name": "python3"
  },
  "language_info": {
   "codemirror_mode": {
    "name": "ipython",
    "version": 3
   },
   "file_extension": ".py",
   "mimetype": "text/x-python",
   "name": "python",
   "nbconvert_exporter": "python",
   "pygments_lexer": "ipython3",
   "version": "3.7.3"
  }
 },
 "nbformat": 4,
 "nbformat_minor": 2
}
