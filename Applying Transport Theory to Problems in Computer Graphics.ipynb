{
 "cells": [
  {
   "cell_type": "markdown",
   "metadata": {},
   "source": [
    "# Applying Transport Theory to Problems in Computer Graphics \n",
    "\n",
    "Given two distributions of material, probability, or whatnot, we might often be interested in computing the distance between the distributions. Our initial idea might be to consider the distributions to be vectors and simply compute the Euclidean distance. However, this does not tell us how we would have to move around \"stuff\" in order to transform one distribution into the other. \n",
    "\n",
    "Computing the Wasserstein distance on the other hand requires us to find a coupling, i.e. a least-work plan for moving material from one distribution such that it turns into the other distribution. \n",
    "\n",
    "Unfortunately, the Wasserstein distance, also known as Earth-Mover's Distance, is expensive to compute, but, recently, efficient algorithms to approximate this distance have emerged. \n",
    "\n",
    "For a somewhat deeper discussion, please see: \n",
    "\n",
    "http://www2.compute.dtu.dk/~janba/w2.html \n",
    "\n",
    "The Wasserstein distance and associated coupling have many applications. In computer graphics we could potentially use it to turn a shape into another shape, or an image into another image. It could be used to change color histograms, or compute motion blur or possibly speed up rendering. \n",
    "\n",
    "The goal of the project is to implement one or more efficient methods for computing the Wasserstein distance (also known as Earth Movers Distance) and then explore applications such as those outlined above. \n"
   ]
  },
  {
   "cell_type": "code",
   "execution_count": null,
   "metadata": {},
   "outputs": [],
   "source": []
  },
  {
   "cell_type": "code",
   "execution_count": null,
   "metadata": {},
   "outputs": [],
   "source": []
  }
 ],
 "metadata": {
  "kernelspec": {
   "display_name": "Python 3",
   "language": "python",
   "name": "python3"
  },
  "language_info": {
   "codemirror_mode": {
    "name": "ipython",
    "version": 3
   },
   "file_extension": ".py",
   "mimetype": "text/x-python",
   "name": "python",
   "nbconvert_exporter": "python",
   "pygments_lexer": "ipython3",
   "version": "3.6.5"
  }
 },
 "nbformat": 4,
 "nbformat_minor": 2
}
